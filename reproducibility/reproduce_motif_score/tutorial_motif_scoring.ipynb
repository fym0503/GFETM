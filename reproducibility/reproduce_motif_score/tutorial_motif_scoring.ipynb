{
 "cells": [
  {
   "cell_type": "code",
   "execution_count": null,
   "metadata": {},
   "outputs": [],
   "source": [
    "import torch\n",
    "import numpy as np\n",
    "import anndata\n",
    "import scanpy as sc\n",
    "import pandas as pd\n",
    "from transformers import AutoTokenizer, AutoModel"
   ]
  },
  {
   "cell_type": "code",
   "execution_count": null,
   "metadata": {},
   "outputs": [],
   "source": [
    "\n",
    "def cosine_similarity(a, b):\n",
    "    dot_product = np.dot(a, b)\n",
    "    norm_a = np.linalg.norm(a)\n",
    "    norm_b = np.linalg.norm(b)\n",
    "    return dot_product / (norm_a * norm_b)\n",
    "\n",
    "adata = anndata.read(\"./motif_data/atac_hvp.h5ad\")\n",
    "adata_ge = anndata.read(\"./motif_data/rna.h5ad\")\n",
    "sc.pp.normalize_total(adata_ge)\n",
    "sc.pp.log1p(adata_ge)"
   ]
  },
  {
   "cell_type": "code",
   "execution_count": null,
   "metadata": {},
   "outputs": [],
   "source": [
    "target_name = \"MEF2C\"\n",
    "target_motif = \"ATGCTAAAAATAGAA\"\n",
    "processed = \"\"\n",
    "tokenizer = AutoTokenizer.from_pretrained(\"../gfm_checkpoint/6-new-12w-0\")\n",
    "for i in range(len(target_motif) - 5):\n",
    "    processed += target_motif[i:i+6] + \" \"\n",
    "processed = processed[:-1]\n",
    "\n",
    "tokens = tokenizer.encode_plus(processed,padding=\"max_length\")['input_ids']\n",
    "model = torch.load(\"./motif_data/cortex_checkpoint\",map_location = 'cpu')\n",
    "\n",
    "peak_embeds = model.encode_peak(torch.tensor(tokens,dtype=torch.long).reshape(1,-1))\n",
    "peak_embeds = peak_embeds.detach().cpu().numpy()\n",
    "\n",
    "background_embeds = np.loadtxt(\"./motif_data/motif_embeds_background.txt\")\n",
    "peak_embeds = (peak_embeds - np.mean(background_embeds,axis=0)) / np.std(background_embeds,axis=0)\n",
    "\n",
    "alpha = model.alphas.weight.detach().cpu().numpy()\n",
    "cell_embeds = np.loadtxt(\"./motif_data/cell_embeds.txt\")\n",
    "cell_embeds = np.matmul(cell_embeds,alpha)"
   ]
  },
  {
   "cell_type": "code",
   "execution_count": null,
   "metadata": {},
   "outputs": [],
   "source": [
    "adata_new = anndata.AnnData(cell_embeds)\n",
    "adata_new.obs['label'] = list(adata.obs['label'])\n",
    "adata_new.obs['age'] = list(adata.obs['Sample.Age'])\n",
    "sc.tl.pca(adata_new)\n",
    "sc.pp.neighbors(adata_new)\n",
    "sc.tl.umap(adata_new)\n",
    "sc.pl.umap(adata_new,color='label',save=True)\n",
    "\n",
    "result_dict = dict()\n",
    "all_score = []\n",
    "score = cosine_similarity(cell_embeds,peak_embeds[0])\n",
    "adata_new.obs['score'] = score\n",
    "\n",
    "index = list(adata_ge.var['names']).index(target_name)\n",
    "adata_new.obs['expression'] = np.array(adata_ge.X[:,index].toarray())\n",
    "sc.pl.umap(adata_new,color='score',save=\"clean_gfetm_MEF2C_score\",cmap = \"bwr\")\n",
    "sc.pl.umap(adata_new,color='expression',save=\"clean_gfetm_MEF2C_expression\",cmap='bwr')"
   ]
  }
 ],
 "metadata": {
  "language_info": {
   "name": "python"
  },
  "orig_nbformat": 4
 },
 "nbformat": 4,
 "nbformat_minor": 2
}
