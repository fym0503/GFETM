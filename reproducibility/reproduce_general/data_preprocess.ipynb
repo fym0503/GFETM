{
 "cells": [
  {
   "cell_type": "code",
   "execution_count": null,
   "metadata": {},
   "outputs": [
    {
     "ename": "",
     "evalue": "",
     "output_type": "error",
     "traceback": [
      "\u001b[1;31mThe kernel died. Error: /cvmfs/soft.computecanada.ca/gentoo/2023/x86-64-v3/usr/lib/python-exec/python3.11/python: No module named ipykernel_launcher... View Jupyter <a href='command:jupyter.viewOutput'>log</a> for further details."
     ]
    }
   ],
   "source": [
    "# import the necessary packages for processing\n",
    "import anndata\n",
    "import pysam\n",
    "import numpy as np\n",
    "import os\n"
   ]
  },
  {
   "cell_type": "markdown",
   "metadata": {},
   "source": [
    "Load the necessary dataset with anndata\n",
    "\n",
    "Download the fasta file from here: https://hgdownload.soe.ucsc.edu/goldenPath/hg19/\n",
    "\n",
    "Remember different datasets may have different reference genomes, so it would be better to check at the scATAC-seq dataset decription before you start"
   ]
  },
  {
   "cell_type": "code",
   "execution_count": null,
   "metadata": {},
   "outputs": [],
   "source": [
    "adata = anndata.read_h5ad(\"../data/buen18.h5ad\")\n",
    "fasta_file = 'hg19.fa'\n",
    "fasta_open = pysam.Fastafile(fasta_file)\n"
   ]
  },
  {
   "cell_type": "markdown",
   "metadata": {},
   "source": [
    "Extract the peak sequences and save to txt file"
   ]
  },
  {
   "cell_type": "code",
   "execution_count": null,
   "metadata": {},
   "outputs": [],
   "source": [
    "chrom = np.array(adata.var['chr'])\n",
    "start = np.array(adata.var['start'])\n",
    "end = np.array(adata.var['end'])\n",
    "seq_dna = []\n",
    "for i in range(len(chrom)):\n",
    "    seq_dna.append(fasta_open.fetch(chrom[i], int(start[i]), int(end[i])).upper())"
   ]
  },
  {
   "cell_type": "markdown",
   "metadata": {},
   "source": [
    "Download the DNABERT pre-trained model from https://drive.google.com/file/d/1BJjqb5Dl2lNMg2warsFQ0-Xvn1xxfFXC/view?usp=sharing\n",
    "\n",
    "Unzip the DNABERT pre-trained model\n",
    "\n",
    "Use transformers to tokenize DNA peak sequences to tokens and save to h5 file"
   ]
  },
  {
   "cell_type": "code",
   "execution_count": null,
   "metadata": {},
   "outputs": [],
   "source": [
    "import h5py\n",
    "import anndata\n",
    "from transformers import AutoTokenizer, AutoModel\n",
    "import torch \n",
    "import numpy as np\n",
    "\n",
    "tokenizer = AutoTokenizer.from_pretrained(\"../gfm_checkpoint/6-new-12w-0\")\n",
    "kmer = 6\n",
    "count = 0\n",
    "device = \"cuda\"\n",
    "\n",
    "\n",
    "token_array = []\n",
    "for seq in seq_dna:\n",
    "    if len(seq) > 512:\n",
    "        gap = int((len(seq) - 512) //2) + 1\n",
    "        seq = seq[gap:-gap]\n",
    "    processed = \"\"\n",
    "    for q in range(len(seq) - kmer):\n",
    "        processed +=  seq[q:q+kmer] +\" \"\n",
    "    token_array.append(tokenizer.encode_plus(processed,padding=\"max_length\")['input_ids'])\n",
    "\n",
    "token_array = np.array(token_array)\n",
    "adata = anndata.AnnData(token_array)\n",
    "adata.write(\"../data/buen18_seq.h5\")"
   ]
  }
 ],
 "metadata": {
  "kernelspec": {
   "display_name": "Python 3 (ipykernel)",
   "language": "python",
   "name": "python3"
  },
  "orig_nbformat": 4
 },
 "nbformat": 4,
 "nbformat_minor": 2
}
