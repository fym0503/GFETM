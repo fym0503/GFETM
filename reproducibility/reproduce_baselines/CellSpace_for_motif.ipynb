{
 "cells": [
  {
   "cell_type": "code",
   "execution_count": 2,
   "id": "013cf2a2-7ecd-4344-b6a0-a076b4bbcc96",
   "metadata": {
    "vscode": {
     "languageId": "r"
    }
   },
   "outputs": [
    {
     "name": "stderr",
     "output_type": "stream",
     "text": [
      "\n",
      "                                                   / |\n",
      "                                                 /    \\\n",
      "            .                                  /      |.\n",
      "            \\\\\\                              /        |.\n",
      "              \\\\\\                          /           `|.\n",
      "                \\\\\\                      /              |.\n",
      "                  \\                    /                |\\\n",
      "                  \\\\#####\\           /                  ||\n",
      "                ==###########>      /                   ||\n",
      "                 \\\\##==......\\    /                     ||\n",
      "            ______ =       =|__ /__                     ||      \\\\\\\n",
      "        ,--' ,----`-,__ ___/'  --,-`-===================##========>\n",
      "       \\               '        ##_______ _____ ,--,__,=##,__   ///\n",
      "        ,    __==    ___,-,__,--'#'  ==='      `-'    | ##,-/\n",
      "        -,____,---'       \\\\####\\\\________________,--\\\\_##,/\n",
      "           ___      .______        ______  __    __  .______      \n",
      "          /   \\     |   _  \\      /      ||  |  |  | |   _  \\     \n",
      "         /  ^  \\    |  |_)  |    |  ,----'|  |__|  | |  |_)  |    \n",
      "        /  /_\\  \\   |      /     |  |     |   __   | |      /     \n",
      "       /  _____  \\  |  |\\  \\\\___ |  `----.|  |  |  | |  |\\  \\\\___.\n",
      "      /__/     \\__\\ | _| `._____| \\______||__|  |__| | _| `._____|\n",
      "    \n",
      "\n",
      "ArchR : Version 1.0.2\n",
      "For more information see our website : www.ArchRProject.com\n",
      "If you encounter a bug please report : https://github.com/GreenleafLab/ArchR/issues\n",
      "\n",
      "Loading Required Packages...\n",
      "\n",
      "\tLoading Package : grid v4.3.1\n",
      "\n",
      "\tLoading Package : gridExtra v2.3\n",
      "\n",
      "\tLoading Package : gtools v3.9.4\n",
      "\n",
      "\tLoading Package : gtable v0.3.4\n",
      "\n",
      "\tLoading Package : ggplot2 v3.4.4\n",
      "\n",
      "\tLoading Package : magrittr v2.0.3\n",
      "\n",
      "\tLoading Package : plyr v1.8.9\n",
      "\n",
      "\tLoading Package : stringr v1.5.1\n",
      "\n",
      "\tLoading Package : data.table v1.14.8\n",
      "\n",
      "\tLoading Package : matrixStats v1.0.0\n",
      "\n",
      "\tLoading Package : S4Vectors v0.40.2\n",
      "\n",
      "\tLoading Package : GenomicRanges v1.54.1\n",
      "\n",
      "\tLoading Package : BiocGenerics v0.48.1\n",
      "\n",
      "\tLoading Package : Matrix v1.6.1.1\n",
      "\n",
      "\tLoading Package : Rcpp v1.0.13\n",
      "\n",
      "\tLoading Package : SummarizedExperiment v1.32.0\n",
      "\n",
      "\tLoading Package : rhdf5 v2.46.1\n",
      "\n",
      "\n",
      "Attaching package: ‘dplyr’\n",
      "\n",
      "\n",
      "The following object is masked from ‘package:Biobase’:\n",
      "\n",
      "    combine\n",
      "\n",
      "\n",
      "The following objects are masked from ‘package:GenomicRanges’:\n",
      "\n",
      "    intersect, setdiff, union\n",
      "\n",
      "\n",
      "The following object is masked from ‘package:GenomeInfoDb’:\n",
      "\n",
      "    intersect\n",
      "\n",
      "\n",
      "The following objects are masked from ‘package:IRanges’:\n",
      "\n",
      "    collapse, desc, intersect, setdiff, slice, union\n",
      "\n",
      "\n",
      "The following objects are masked from ‘package:S4Vectors’:\n",
      "\n",
      "    first, intersect, rename, setdiff, setequal, union\n",
      "\n",
      "\n",
      "The following objects are masked from ‘package:BiocGenerics’:\n",
      "\n",
      "    combine, intersect, setdiff, union\n",
      "\n",
      "\n",
      "The following object is masked from ‘package:matrixStats’:\n",
      "\n",
      "    count\n",
      "\n",
      "\n",
      "The following objects are masked from ‘package:data.table’:\n",
      "\n",
      "    between, first, last\n",
      "\n",
      "\n",
      "The following objects are masked from ‘package:plyr’:\n",
      "\n",
      "    arrange, count, desc, failwith, id, mutate, rename, summarise,\n",
      "    summarize\n",
      "\n",
      "\n",
      "The following object is masked from ‘package:gridExtra’:\n",
      "\n",
      "    combine\n",
      "\n",
      "\n",
      "The following objects are masked from ‘package:stats’:\n",
      "\n",
      "    filter, lag\n",
      "\n",
      "\n",
      "The following objects are masked from ‘package:base’:\n",
      "\n",
      "    intersect, setdiff, setequal, union\n",
      "\n",
      "\n",
      "Loading required package: XVector\n",
      "\n",
      "\n",
      "Attaching package: ‘XVector’\n",
      "\n",
      "\n",
      "The following object is masked from ‘package:plyr’:\n",
      "\n",
      "    compact\n",
      "\n",
      "\n",
      "\n",
      "Attaching package: ‘Biostrings’\n",
      "\n",
      "\n",
      "The following object is masked from ‘package:grid’:\n",
      "\n",
      "    pattern\n",
      "\n",
      "\n",
      "The following object is masked from ‘package:base’:\n",
      "\n",
      "    strsplit\n",
      "\n",
      "\n",
      "Loading required package: BSgenome\n",
      "\n",
      "Loading required package: BiocIO\n",
      "\n",
      "Loading required package: rtracklayer\n",
      "\n",
      "\n",
      "Attaching package: ‘rtracklayer’\n",
      "\n",
      "\n",
      "The following object is masked from ‘package:BiocIO’:\n",
      "\n",
      "    FileForFormat\n",
      "\n",
      "\n"
     ]
    }
   ],
   "source": [
    "library(ArchR)\n",
    "library(Matrix)\n",
    "library(dplyr)\n",
    "library(GenomicRanges)\n",
    "library(Biostrings)\n",
    "source(\"/ailab/user/fanyimin/CellSpace-master/tutorial/variable-peaks/IterativeLSI.R\")\n",
    "library(GenomicRanges)\n",
    "library(Matrix)\n",
    "library(data.table)\n",
    "library(dplyr)\n",
    "library(BSgenome.Hsapiens.UCSC.hg38)\n"
   ]
  },
  {
   "cell_type": "code",
   "execution_count": 3,
   "id": "1d825bf4-50d5-4ec0-8c91-f83fb8db3e30",
   "metadata": {
    "vscode": {
     "languageId": "r"
    }
   },
   "outputs": [],
   "source": [
    "peaks <- fread(\n",
    "  file = \"var.csv\",\n",
    "  header = TRUE,      \n",
    "  stringsAsFactors = FALSE\n",
    ")\n",
    "\n",
    "peaks.gr <- makeGRangesFromDataFrame(\n",
    "  df = peaks,\n",
    "  seqinfo = seqinfo(BSgenome.Hsapiens.UCSC.hg38)\n",
    ")\n"
   ]
  },
  {
   "cell_type": "code",
   "execution_count": null,
   "id": "d0552406",
   "metadata": {
    "vscode": {
     "languageId": "r"
    }
   },
   "outputs": [],
   "source": [
    "cellname <- fread(\n",
    "  file = \"obs.csv\",\n",
    "  header = TRUE,     \n",
    "  stringsAsFactors = FALSE\n",
    ")\n",
    "cellname$label\n",
    "counts <- readMM(\"matrix.mtx\")"
   ]
  },
  {
   "cell_type": "code",
   "execution_count": null,
   "id": "19e16092",
   "metadata": {
    "vscode": {
     "languageId": "r"
    }
   },
   "outputs": [],
   "source": [
    "counts@x[counts@x != 0] <- 1\n",
    "dimnames(counts) <- list(cellname$label, as.character(peaks.gr))"
   ]
  },
  {
   "cell_type": "code",
   "execution_count": null,
   "id": "183ab0f2",
   "metadata": {
    "vscode": {
     "languageId": "r"
    }
   },
   "outputs": [],
   "source": [
    "genome <- BSgenome.Hsapiens.UCSC.hg38\n",
    "getSeq(peaks.gr, x = genome) %>%\n",
    "  writeXStringSet(filepath = \"var_peaks.fa\")\n",
    "write(rownames(counts), ncolumns = 1, file = \"cell-names.txt\")\n",
    "writeMM(counts, file = \"cell_by_peak-counts.mtx\")\n",
    "\n",
    "\n",
    "#CellSpace \\\n",
    "  #-output data/CellSpace_embedding-var_tiles \\\n",
    "  #-cpMat  data/cell_by_tile-counts.mtx \\\n",
    "  #-peaks  data/var_tiles.fa\n"
   ]
  },
  {
   "cell_type": "code",
   "execution_count": 2,
   "id": "7598d380-c870-497f-823e-0589dd40d9f5",
   "metadata": {
    "vscode": {
     "languageId": "r"
    }
   },
   "outputs": [],
   "source": [
    "library(CellSpace)\n",
    "library(TFBSTools)\n",
    "library(JASPAR2020)\n",
    "library(dplyr)\n",
    "source(\"/ailab/user/fanyimin/CellSpace-master/tutorial/plot-functions.R\")"
   ]
  },
  {
   "cell_type": "code",
   "execution_count": 3,
   "id": "60e702c3-68c5-4c85-bcb7-a6c6c80c1274",
   "metadata": {
    "vscode": {
     "languageId": "r"
    }
   },
   "outputs": [],
   "source": [
    "cell.idx <- readLines(\"cell-names.txt\")\n",
    "cso <- CellSpace(\n",
    "  project = \"ATAC\",\n",
    "  emb.file = \"CellSpace_embedding-var_tiles.tsv\",\n",
    "  meta.data = as.data.frame(cell.idx)\n",
    ")"
   ]
  },
  {
   "cell_type": "code",
   "execution_count": 4,
   "id": "940adc52-b0d6-4086-86a7-577a6c758d61",
   "metadata": {
    "vscode": {
     "languageId": "r"
    }
   },
   "outputs": [
    {
     "name": "stderr",
     "output_type": "stream",
     "text": [
      "Computing nearest neighbor graph\n",
      "\n",
      "Computing SNN\n",
      "\n"
     ]
    },
    {
     "name": "stdout",
     "output_type": "stream",
     "text": [
      "Modularity Optimizer version 1.3.0 by Ludo Waltman and Nees Jan van Eck\n",
      "\n",
      "Number of nodes: 8981\n",
      "Number of edges: 333309\n",
      "\n",
      "Running Louvain algorithm...\n",
      "Maximum modularity in 10 random starts: 0.8492\n",
      "Number of communities: 13\n",
      "Elapsed time: 0 seconds\n",
      "Modularity Optimizer version 1.3.0 by Ludo Waltman and Nees Jan van Eck\n",
      "\n",
      "Number of nodes: 8981\n",
      "Number of edges: 333309\n",
      "\n",
      "Running Louvain algorithm...\n",
      "Maximum modularity in 10 random starts: 0.8050\n",
      "Number of communities: 14\n",
      "Elapsed time: 0 seconds\n"
     ]
    },
    {
     "name": "stderr",
     "output_type": "stream",
     "text": [
      "Warning message:\n",
      "“The default method for RunUMAP has changed from calling Python UMAP via reticulate to the R-native UWOT using the cosine metric\n",
      "To use Python UMAP via reticulate, set umap.method to 'umap-learn' and metric to 'correlation'\n",
      "This message will be shown once per session”\n",
      "23:38:16 UMAP embedding parameters a = 1.262 b = 1.003\n",
      "\n",
      "23:38:16 Read 8981 rows and found 30 numeric columns\n",
      "\n",
      "23:38:16 Using Annoy for neighbor search, n_neighbors = 20\n",
      "\n",
      "23:38:16 Building Annoy index with metric = cosine, n_trees = 50\n",
      "\n",
      "0%   10   20   30   40   50   60   70   80   90   100%\n",
      "\n",
      "[----|----|----|----|----|----|----|----|----|----|\n",
      "\n",
      "*\n",
      "*\n",
      "*\n",
      "*\n",
      "*\n",
      "*\n",
      "*\n",
      "*\n",
      "*\n",
      "*\n",
      "*\n",
      "*\n",
      "*\n",
      "*\n",
      "*\n",
      "*\n",
      "*\n",
      "*\n",
      "*\n",
      "*\n",
      "*\n",
      "*\n",
      "*\n",
      "*\n",
      "*\n",
      "*\n",
      "*\n",
      "*\n",
      "*\n",
      "*\n",
      "*\n",
      "*\n",
      "*\n",
      "*\n",
      "*\n",
      "*\n",
      "*\n",
      "*\n",
      "*\n",
      "*\n",
      "*\n",
      "*\n",
      "*\n",
      "*\n",
      "*\n",
      "*\n",
      "*\n",
      "*\n",
      "*\n",
      "*\n",
      "|\n",
      "\n",
      "23:38:17 Writing NN index file to temp file /tmp/RtmpGSdPwp/file386460e34d7d\n",
      "\n",
      "23:38:17 Searching Annoy index using 1 thread, search_k = 2000\n",
      "\n",
      "23:38:19 Annoy recall = 100%\n",
      "\n",
      "23:38:20 Commencing smooth kNN distance calibration using 1 thread\n",
      " with target n_neighbors = 20\n",
      "\n",
      "23:38:22 Initializing from normalized Laplacian + noise (using irlba)\n",
      "\n",
      "23:38:22 Commencing optimization for 500 epochs, with 286566 positive edges\n",
      "\n",
      "23:38:46 Optimization finished\n",
      "\n"
     ]
    }
   ],
   "source": [
    "cso <- find_neighbors(cso, n.neighbors = 20) %>%\n",
    "  find_clusters(resolution = c(0.8, 1.2)) %>%\n",
    "  run_UMAP(n.neighbors = 20, min.dist = 0.2, spread = 1)"
   ]
  },
  {
   "cell_type": "code",
   "execution_count": null,
   "id": "b2d83e92",
   "metadata": {
    "vscode": {
     "languageId": "r"
    }
   },
   "outputs": [],
   "source": [
    "library(RColorBrewer)\n",
    "\n",
    "n <- length(unique(cso@meta.data$cell.idx))\n",
    "print(n)\n",
    "pal <- colorRampPalette(brewer.pal(12, \"Paired\"))(14)\n",
    "\n",
    "plot.groups(\n",
    "  cso, vis = \"cells_UMAP\", groups = \"cell.idx\",\n",
    "  pal = pal, add.labels = T\n",
    ")"
   ]
  },
  {
   "cell_type": "code",
   "execution_count": null,
   "id": "d21aa0ab",
   "metadata": {
    "vscode": {
     "languageId": "r"
    }
   },
   "outputs": [],
   "source": [
    "\n",
    "pwm_txt <- readLines(\"motif.txt\")\n",
    "\n",
    "parse_pwm <- function(txt_lines, selected_motifs) {\n",
    "  pwm_list <- list() \n",
    "  i <- 1\n",
    "  while (i <= length(txt_lines)) {\n",
    "    if (startsWith(txt_lines[i], \">\")) {\n",
    "      full_name <- sub(\"^>\", \"\", txt_lines[i]) \n",
    "      parts <- strsplit(full_name, \"\\t\")[[1]]  \n",
    "      motif_name <- parts[2] \n",
    "      \n",
    "      if (motif_name %in% selected_motifs) {\n",
    "        i <- i + 1\n",
    "        pwm_matrix <- NULL\n",
    "        bases <- c(\"A\", \"C\", \"G\", \"T\")\n",
    "        for (j in 1:4) {\n",
    "          base_line <- txt_lines[i]\n",
    "          base_values <- as.numeric(unlist(strsplit(gsub(\"[^0-9 ]\", \"\", base_line), \"\\\\s+\")))\n",
    "          \n",
    "          if (is.null(pwm_matrix)) {\n",
    "            pwm_matrix <- matrix(NA, nrow = 4, ncol = length(base_values))\n",
    "          }\n",
    "          \n",
    "          if (length(base_values) == ncol(pwm_matrix)) {\n",
    "            pwm_matrix[j, ] <- base_values\n",
    "          } else {\n",
    "            stop(paste(\"Wrong Number!\"))\n",
    "          }\n",
    "          \n",
    "          i <- i + 1\n",
    "        }\n",
    "        \n",
    "        rownames(pwm_matrix) <- bases\n",
    "        pwm_matrix <- pwm_matrix[, -1]  \n",
    "      \n",
    "        pwm_list[[motif_name]] <- pwm_matrix\n",
    "      } else {\n",
    "        i <- i + 5\n",
    "      }\n",
    "    }\n",
    "  }\n",
    "  return(pwm_list)\n",
    "}\n",
    "\n",
    "selected_motifs <- c('PAX6', 'INSM1', 'SOX9', 'EMX2', 'LHX2', 'FOXG1', \n",
    "                     'TCF4', 'TCF3', 'TFAP2C', 'FOS', 'POU3F3', 'NEUROD2', \n",
    "                     'BHLHE22', 'JUND', 'MEF2C', 'POU2F2', 'NFIA', 'MEIS2', 'EOMES')\n",
    "\n",
    "pwm_list <- parse_pwm(pwm_txt, selected_motifs)\n",
    "\n",
    "#print(pwm_list)\n"
   ]
  },
  {
   "cell_type": "code",
   "execution_count": null,
   "id": "73a40dfa",
   "metadata": {
    "vscode": {
     "languageId": "r"
    }
   },
   "outputs": [],
   "source": [
    "pwm_to_pwmat <- function(pwm_list) {\n",
    "  pwmat_list <- list()\n",
    "  \n",
    "  for (motif_name in names(pwm_list)) {\n",
    "    pwm_matrix <- pwm_list[[motif_name]]\n",
    "    #print(pwm_matrix)\n",
    "    pwmat <- PWMatrix(\n",
    "      ID = motif_name,\n",
    "      name = motif_name,\n",
    "      matrixClass = \"Unknown\",\n",
    "      strand = \"*\",\n",
    "      bg = c(A = 0.25, C = 0.25, G = 0.25, T = 0.25),  \n",
    "      profileMatrix = pwm_matrix, \n",
    "      pseudocounts = 1e-4,\n",
    "      tags = list()\n",
    "    )\n",
    "      \n",
    "    pwmat_list[[motif_name]] <- pwmat\n",
    "  }\n",
    "\n",
    "  return(pwmat_list)\n",
    "}\n",
    "\n",
    "pwmat_list <- pwm_to_pwmat(pwm_list)\n",
    "\n",
    "#print(pwmat_list)\n"
   ]
  },
  {
   "cell_type": "code",
   "execution_count": 18,
   "id": "aa224103-52cf-4fd6-80d2-65592dca5563",
   "metadata": {
    "vscode": {
     "languageId": "r"
    }
   },
   "outputs": [],
   "source": [
    "motif.emb <- lapply(pwmat_list, function(pwm){\n",
    "  motif_embedding(cso, PWM = pwm)\n",
    "}) %>% do.call(what = rbind)"
   ]
  },
  {
   "cell_type": "code",
   "execution_count": 19,
   "id": "a3c0a97a-6b80-4d03-b188-6a62acc69f38",
   "metadata": {
    "vscode": {
     "languageId": "r"
    }
   },
   "outputs": [],
   "source": [
    "motif.score <- cosine_similarity(x = cso@cell.emb, y = motif.emb) %>% scale()"
   ]
  },
  {
   "cell_type": "code",
   "execution_count": null,
   "id": "57f9db2c",
   "metadata": {
    "vscode": {
     "languageId": "r"
    }
   },
   "outputs": [],
   "source": [
    "md <- cso@meta.data[, c(\"cell.idx\", \"Clusters.res_0.8\", \"Clusters.res_1.2\")]\n",
    "\n",
    "clusters_0.8 <- unique(md$Clusters.res_0.8)\n",
    "clusters_1.2 <- unique(md$Clusters.res_1.2)\n",
    "cell.idx_uq <- unique(md$cell.idx)\n",
    "\n",
    "pal <- list(\n",
    "  cell.idx = setNames(rainbow(length(cell.idx_uq)), cell.idx_uq),\n",
    "  Clusters.res_0.8 = setNames(rainbow(length(clusters_0.8)), clusters_0.8),\n",
    "  Clusters.res_1.2 = setNames(rainbow(length(clusters_1.2)), clusters_1.2)\n",
    ")\n",
    "\n",
    "#print(pal)\n",
    "plot.scores(t(motif.score), cell.annot = md, pal = pal, column_split = cso$Cell_type)"
   ]
  },
  {
   "cell_type": "code",
   "execution_count": 26,
   "id": "f838c445-6983-4b7e-a5e2-19bd3e040ee1",
   "metadata": {
    "vscode": {
     "languageId": "r"
    }
   },
   "outputs": [],
   "source": [
    "\n",
    "write.csv(motif.score, file = \"motif_score.csv\", row.names = TRUE)\n",
    "\n",
    "write.csv(as.data.frame(cso@cell.emb), file = \"cell_embedding.csv\", row.names = TRUE)\n",
    "\n",
    "write.csv(as.data.frame(cso@kmer.emb), file = \"motif_embedding.csv\", row.names = TRUE)\n"
   ]
  },
  {
   "cell_type": "code",
   "execution_count": null,
   "id": "dacae5db-8cee-471c-87b6-e1386067206c",
   "metadata": {
    "vscode": {
     "languageId": "r"
    }
   },
   "outputs": [],
   "source": []
  }
 ],
 "metadata": {
  "kernelspec": {
   "display_name": "R",
   "language": "R",
   "name": "ir"
  },
  "language_info": {
   "codemirror_mode": "r",
   "file_extension": ".r",
   "mimetype": "text/x-r-source",
   "name": "R",
   "pygments_lexer": "r",
   "version": "4.3.1"
  }
 },
 "nbformat": 4,
 "nbformat_minor": 5
}
