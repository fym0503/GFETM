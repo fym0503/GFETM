{
 "cells": [
  {
   "cell_type": "markdown",
   "metadata": {},
   "source": [
    "# Tutorial For GFETM"
   ]
  },
  {
   "cell_type": "code",
   "execution_count": null,
   "metadata": {},
   "outputs": [],
   "source": [
    "# import the necessary packages for processing\n",
    "import anndata\n",
    "import pysam\n",
    "import numpy as np\n",
    "import os\n",
    "import umap\n",
    "import matplotlib.pyplot as plt"
   ]
  },
  {
   "cell_type": "markdown",
   "metadata": {},
   "source": [
    "Load the necessary dataset with anndata\n",
    "\n",
    "Download the fasta file from here: https://hgdownload.soe.ucsc.edu/goldenPath/hg19/bigZips/hg19.fa.gz \n",
    "\n",
    "Remember different datasets may have different reference genomes, so it would be better to check at the scATAC-seq dataset decription before you start"
   ]
  },
  {
   "cell_type": "code",
   "execution_count": null,
   "metadata": {},
   "outputs": [],
   "source": [
    "adata = anndata.read_h5ad(\"../data/buen18.h5ad\")\n",
    "fasta_file = 'hg19.fa'\n",
    "fasta_open = pysam.Fastafile(fasta_file)\n"
   ]
  },
  {
   "cell_type": "markdown",
   "metadata": {},
   "source": [
    "Extract the peak sequences and save to txt file"
   ]
  },
  {
   "cell_type": "code",
   "execution_count": null,
   "metadata": {},
   "outputs": [],
   "source": [
    "chrom = np.array(adata.var['chr'])\n",
    "start = np.array(adata.var['start'])\n",
    "end = np.array(adata.var['end'])\n",
    "seq_dna = []\n",
    "for i in range(len(chrom)):\n",
    "    seq_dna.append(fasta_open.fetch(chrom[i], int(start[i]), int(end[i])).upper())\n",
    "with open(\"peak_sequences_buen18.txt\",\"w\") as f:\n",
    "    for i in seq_dna:\n",
    "        f.writelines(i+\"\\n\")"
   ]
  },
  {
   "cell_type": "markdown",
   "metadata": {},
   "source": [
    "Download the DNABERT pre-trained model from https://drive.google.com/file/d/1BJjqb5Dl2lNMg2warsFQ0-Xvn1xxfFXC/view?usp=sharing\n",
    "\n",
    "Unzip the DNABERT pre-trained model\n",
    "\n",
    "Use transformers to tokenize DNA peak sequences to tokens and save to h5 file"
   ]
  },
  {
   "cell_type": "code",
   "execution_count": null,
   "metadata": {},
   "outputs": [],
   "source": [
    "import h5py\n",
    "import anndata\n",
    "from transformers import AutoTokenizer, AutoModel\n",
    "import torch \n",
    "import numpy as np\n",
    "\n",
    "tokenizer = AutoTokenizer.from_pretrained(\"../gfm_checkpoint/6-new-12w-0\")\n",
    "kmer = 6\n",
    "count = 0\n",
    "device = \"cuda\"\n",
    "mean_embedding = []\n",
    "cls_embedding = []\n",
    "with open(\"peak_sequences_buen18.txt\") as f:\n",
    "    dna_array_dense = []\n",
    "    for line in f:\n",
    "        print(count)\n",
    "        line = line.rstrip()\n",
    "        count += 1\n",
    "        if len(line) > 512:\n",
    "            gap = int((len(line) - 512) //2) + 1\n",
    "            line = line[gap:-gap]\n",
    "        processed = \"\"\n",
    "        for q in range(509):\n",
    "            processed +=  line[q:q+kmer] +\" \"\n",
    "        dna_array_dense.append(tokenizer.encode_plus(processed,padding=\"max_length\")['input_ids'])\n",
    "\n",
    "dna_array_dense = np.array(dna_array_dense)\n",
    "adata = anndata.AnnData(dna_array_dense)\n",
    "adata.write(\"../data/buen18_seq.h5\")"
   ]
  },
  {
   "cell_type": "markdown",
   "metadata": {},
   "source": [
    "Run the code for training the GFETM model"
   ]
  },
  {
   "cell_type": "code",
   "execution_count": null,
   "metadata": {},
   "outputs": [],
   "source": [
    "! python main.py --mode train  --data_path ../data/buen18.h5ad --seq_path ../data/buen18_seq.h5 --checkpoint_path ../gfm_checkpoint/6-new-12w-0 --enc_drop 0.1 --num_topics 24 --seed 4 --epochs 4000 --emb_size 768 --rho_size 768 --t_hidden_size 1000 --output_path ../outputs/"
   ]
  },
  {
   "cell_type": "markdown",
   "metadata": {},
   "source": [
    "Analyze the Results"
   ]
  },
  {
   "cell_type": "code",
   "execution_count": null,
   "metadata": {},
   "outputs": [],
   "source": [
    "adata = anndata.read_h5ad(\"../outputs/adata.h5ad\")\n",
    "cell_embeddings = adata.obsm['projection']"
   ]
  },
  {
   "cell_type": "code",
   "execution_count": null,
   "metadata": {},
   "outputs": [],
   "source": [
    "umap_obj = umap.UMAP()\n",
    "umap_coords = umap_obj.fit_transform(cell_embeddings)\n",
    "adata.obsm['X_umap'] = umap_coords"
   ]
  },
  {
   "cell_type": "code",
   "execution_count": null,
   "metadata": {},
   "outputs": [],
   "source": [
    "fig, ax = plt.subplots(figsize=(7, 7))\n",
    "sc.pl.embedding(adata, 'X_umap', color=\"label\",ax=ax,legend_fontsize=\"xx-small\",frameon=False)\n",
    "ax.set_title(\"\")\n",
    "plt.tight_layout()\n",
    "plt.savefig(\"embeddings_color_by_cell_type.png\")\n",
    "\n",
    "fig, ax = plt.subplots(figsize=(7, 7))\n",
    "sc.pl.embedding(adata, 'X_umap', color=\"batch\",ax=ax,legend_fontsize=\"xx-small\",frameon=False)\n",
    "ax.set_title(\"\")\n",
    "plt.tight_layout()\n",
    "plt.savefig(\"embeddings_color_by_batch.png\")"
   ]
  }
 ],
 "metadata": {
  "language_info": {
   "name": "python"
  },
  "orig_nbformat": 4
 },
 "nbformat": 4,
 "nbformat_minor": 2
}
