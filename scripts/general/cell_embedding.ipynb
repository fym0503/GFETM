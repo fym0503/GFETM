{
 "cells": [
  {
   "cell_type": "markdown",
   "metadata": {},
   "source": [
    "Run the code for training the GFETM model"
   ]
  },
  {
   "cell_type": "code",
   "execution_count": null,
   "metadata": {},
   "outputs": [],
   "source": [
    "import anndata\n",
    "import pysam\n",
    "import numpy as np\n",
    "import os\n",
    "import matplotlib.pyplot as plt"
   ]
  },
  {
   "cell_type": "code",
   "execution_count": null,
   "metadata": {},
   "outputs": [],
   "source": [
    "! python main.py --mode train  --data_path ../data/buen18.h5ad --seq_path ../data/buen18_seq.h5 --checkpoint_path ../gfm_checkpoint/6-new-12w-0 --enc_drop 0.1 --num_topics 24 --seed 4 --epochs 4000 --emb_size 768 --rho_size 768 --t_hidden_size 1000 --output_path ../outputs/"
   ]
  },
  {
   "cell_type": "markdown",
   "metadata": {},
   "source": [
    "Obtain the cell embeddings"
   ]
  },
  {
   "cell_type": "code",
   "execution_count": null,
   "metadata": {},
   "outputs": [],
   "source": [
    "adata = anndata.read_h5ad(\"../outputs/adata.h5ad\")\n",
    "cell_embeddings = adata.obsm['projection']"
   ]
  },
  {
   "cell_type": "code",
   "execution_count": null,
   "metadata": {},
   "outputs": [],
   "source": [
    "umap_obj = UMAP()\n",
    "umap_coords = umap_obj.fit_transform(cell_embeddings)\n",
    "adata.obsm['X_umap'] = umap_coords"
   ]
  },
  {
   "cell_type": "markdown",
   "metadata": {},
   "source": [
    "Visualize the cell embeddings"
   ]
  },
  {
   "cell_type": "code",
   "execution_count": null,
   "metadata": {},
   "outputs": [],
   "source": [
    "fig, ax = plt.subplots(figsize=(7, 7))\n",
    "sc.pl.embedding(adata, 'X_umap', color=\"label\",ax=ax,legend_fontsize=\"xx-small\",frameon=False)\n",
    "ax.set_title(\"\")\n",
    "plt.tight_layout()\n",
    "plt.savefig(\"embeddings_color_by_cell_type.png\")\n",
    "\n",
    "fig, ax = plt.subplots(figsize=(7, 7))\n",
    "sc.pl.embedding(adata, 'X_umap', color=\"batch\",ax=ax,legend_fontsize=\"xx-small\",frameon=False)\n",
    "ax.set_title(\"\")\n",
    "plt.tight_layout()\n",
    "plt.savefig(\"embeddings_color_by_batch.png\")"
   ]
  }
 ],
 "metadata": {
  "kernelspec": {
   "display_name": "Python 3 (ipykernel)",
   "language": "python",
   "name": "python3"
  },
  "orig_nbformat": 4
 },
 "nbformat": 4,
 "nbformat_minor": 2
}
